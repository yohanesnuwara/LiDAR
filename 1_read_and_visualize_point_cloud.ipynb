{
  "nbformat": 4,
  "nbformat_minor": 0,
  "metadata": {
    "colab": {
      "provenance": [],
      "authorship_tag": "ABX9TyNA6CsMNSNTefBDxUSh3xEH",
      "include_colab_link": true
    },
    "kernelspec": {
      "name": "python3",
      "display_name": "Python 3"
    },
    "language_info": {
      "name": "python"
    },
    "widgets": {
      "application/vnd.jupyter.widget-state+json": {
        "e4579edaf2e949b09a1e63ab72931e8a": {
          "model_module": "@jupyter-widgets/controls",
          "model_name": "VBoxModel",
          "model_module_version": "2.0.0",
          "state": {
            "_dom_classes": [],
            "_model_module": "@jupyter-widgets/controls",
            "_model_module_version": "2.0.0",
            "_model_name": "VBoxModel",
            "_view_count": null,
            "_view_module": "@jupyter-widgets/controls",
            "_view_module_version": "2.0.0",
            "_view_name": "VBoxView",
            "box_style": "",
            "children": [
              "IPY_MODEL_22130cbb07674a9dbf2e055c7a12b07f"
            ],
            "layout": "IPY_MODEL_ed84d72530c54181bd43b1bd78b3d2c0",
            "tabbable": null,
            "tooltip": null
          }
        },
        "22130cbb07674a9dbf2e055c7a12b07f": {
          "model_module": "ipyvolume",
          "model_name": "FigureModel",
          "model_module_version": "~0.5.2",
          "state": {
            "_dom_classes": [],
            "_model_module": "ipyvolume",
            "_model_module_version": "~0.5.2",
            "_model_name": "FigureModel",
            "_view_count": null,
            "_view_module": "ipyvolume",
            "_view_module_version": "~0.5.2",
            "_view_name": "FigureView",
            "ambient_coefficient": 0.5,
            "animation": 1000,
            "animation_exponent": 1,
            "camera": "IPY_MODEL_5a8b5f3cc9fc406eb993fea5ce9842e8",
            "camera_center": [
              0,
              0,
              0
            ],
            "camera_control": "trackball",
            "camera_fov": 45,
            "capture_fps": null,
            "cube_resolution": 512,
            "diffuse_coefficient": 0.8,
            "displayscale": 1,
            "downscale": 1,
            "eye_separation": 6.4,
            "height": 500,
            "layout": "IPY_MODEL_3abcbe14f4e74205b5863d741232bad2",
            "matrix_projection": [
              1.1779261829118763,
              0,
              0,
              0,
              0,
              2.3558523658237527,
              0,
              0,
              0,
              0,
              -1.00010000500025,
              -1,
              0,
              0,
              -0.200010000500025,
              0
            ],
            "matrix_world": [
              0.01382552191345468,
              0,
              0,
              0,
              0,
              0.01382552191345468,
              8.465690578926934e-19,
              0,
              0,
              -8.465690578926934e-19,
              0.01382552191345468,
              0,
              -0.4915664316416369,
              -0.224526475874504,
              -2.2231440061563505,
              1
            ],
            "meshes": [],
            "mouse_mode": "normal",
            "panorama_mode": "no",
            "render_continuous": false,
            "scatters": [
              "IPY_MODEL_5133ad62c7284551ac6d8bb7d6a8e97d"
            ],
            "scene": "IPY_MODEL_01b7c6ab160a4b5a9392e320fe450c7d",
            "selection_mode": "replace",
            "selector": "lasso",
            "show": "Volume",
            "specular_coefficient": 0.5,
            "specular_exponent": 5,
            "stereo": false,
            "style": {
              "axes": {
                "visible": true,
                "label": {
                  "color": "black"
                },
                "ticklabel": {
                  "color": "black"
                },
                "color": "black"
              },
              "box": {
                "visible": true
              },
              "background-color": "white"
            },
            "tabbable": null,
            "tooltip": null,
            "volumes": [],
            "width": 1000,
            "xlabel": "Y",
            "xlim": [
              -0.6099999993602978,
              71.7200000006269
            ],
            "ylabel": "Z",
            "ylim": [
              -19.924999999993595,
              52.4049999999936
            ],
            "zlabel": "X",
            "zlim": [
              0,
              72.3299999999872
            ]
          }
        },
        "ed84d72530c54181bd43b1bd78b3d2c0": {
          "model_module": "@jupyter-widgets/base",
          "model_name": "LayoutModel",
          "model_module_version": "2.0.0",
          "state": {
            "_model_module": "@jupyter-widgets/base",
            "_model_module_version": "2.0.0",
            "_model_name": "LayoutModel",
            "_view_count": null,
            "_view_module": "@jupyter-widgets/base",
            "_view_module_version": "2.0.0",
            "_view_name": "LayoutView",
            "align_content": null,
            "align_items": null,
            "align_self": null,
            "border_bottom": null,
            "border_left": null,
            "border_right": null,
            "border_top": null,
            "bottom": null,
            "display": null,
            "flex": null,
            "flex_flow": null,
            "grid_area": null,
            "grid_auto_columns": null,
            "grid_auto_flow": null,
            "grid_auto_rows": null,
            "grid_column": null,
            "grid_gap": null,
            "grid_row": null,
            "grid_template_areas": null,
            "grid_template_columns": null,
            "grid_template_rows": null,
            "height": null,
            "justify_content": null,
            "justify_items": null,
            "left": null,
            "margin": null,
            "max_height": null,
            "max_width": null,
            "min_height": null,
            "min_width": null,
            "object_fit": null,
            "object_position": null,
            "order": null,
            "overflow": null,
            "padding": null,
            "right": null,
            "top": null,
            "visibility": null,
            "width": null
          }
        },
        "5a8b5f3cc9fc406eb993fea5ce9842e8": {
          "model_module": "jupyter-threejs",
          "model_name": "PerspectiveCameraModel",
          "model_module_version": "^2.1.0",
          "state": {
            "_model_module": "jupyter-threejs",
            "_model_module_version": "^2.1.0",
            "_model_name": "PerspectiveCameraModel",
            "_view_count": null,
            "_view_module": null,
            "_view_module_version": "",
            "_view_name": null,
            "aspect": 2,
            "castShadow": false,
            "children": [],
            "far": 2000,
            "focus": 10,
            "fov": 46,
            "frustumCulled": true,
            "matrix": [
              1,
              0,
              0,
              0,
              0,
              1,
              -6.123233995736767e-17,
              0,
              0,
              6.123233995736767e-17,
              1,
              0,
              0,
              1.055121395804661e-16,
              1.7231440061563508,
              1
            ],
            "matrixAutoUpdate": true,
            "matrixWorld": [
              1,
              0,
              0,
              0,
              0,
              1,
              -6.123233995736767e-17,
              0,
              0,
              6.123233995736767e-17,
              1,
              0,
              0,
              1.055121395804661e-16,
              1.7231440061563508,
              1
            ],
            "matrixWorldInverse": [
              1,
              0,
              0,
              0,
              0,
              1,
              6.123233995736767e-17,
              0,
              0,
              -6.123233995736767e-17,
              1,
              0,
              0,
              2.465190328815662e-32,
              -1.7231440061563508,
              1
            ],
            "matrixWorldNeedsUpdate": true,
            "modelViewMatrix": [
              1,
              0,
              0,
              0,
              0,
              1,
              0,
              0,
              0,
              0,
              1,
              0,
              0,
              0,
              0,
              1
            ],
            "name": "",
            "near": 0.1,
            "normalMatrix": [
              1,
              0,
              0,
              0,
              1,
              0,
              0,
              0,
              1
            ],
            "position": [
              0,
              1.055121395804661e-16,
              1.7231440061563508
            ],
            "projectionMatrix": [
              1.1779261829118763,
              0,
              0,
              0,
              0,
              2.3558523658237527,
              0,
              0,
              0,
              0,
              -1.00010000500025,
              -1,
              0,
              0,
              -0.200010000500025,
              0
            ],
            "quaternion": [
              -3.0616169978683836e-17,
              0,
              0,
              1
            ],
            "receiveShadow": false,
            "renderOrder": 0,
            "rotation": [
              -6.123233995736767e-17,
              0,
              0,
              "XYZ"
            ],
            "scale": [
              1,
              1,
              1
            ],
            "type": "PerspectiveCamera",
            "up": [
              0,
              1,
              -6.123233995736767e-17
            ],
            "visible": true,
            "zoom": 1
          }
        },
        "3abcbe14f4e74205b5863d741232bad2": {
          "model_module": "@jupyter-widgets/base",
          "model_name": "LayoutModel",
          "model_module_version": "2.0.0",
          "state": {
            "_model_module": "@jupyter-widgets/base",
            "_model_module_version": "2.0.0",
            "_model_name": "LayoutModel",
            "_view_count": null,
            "_view_module": "@jupyter-widgets/base",
            "_view_module_version": "2.0.0",
            "_view_name": "LayoutView",
            "align_content": null,
            "align_items": null,
            "align_self": null,
            "border_bottom": null,
            "border_left": null,
            "border_right": null,
            "border_top": null,
            "bottom": null,
            "display": null,
            "flex": null,
            "flex_flow": null,
            "grid_area": null,
            "grid_auto_columns": null,
            "grid_auto_flow": null,
            "grid_auto_rows": null,
            "grid_column": null,
            "grid_gap": null,
            "grid_row": null,
            "grid_template_areas": null,
            "grid_template_columns": null,
            "grid_template_rows": null,
            "height": null,
            "justify_content": null,
            "justify_items": null,
            "left": null,
            "margin": null,
            "max_height": null,
            "max_width": null,
            "min_height": null,
            "min_width": null,
            "object_fit": null,
            "object_position": null,
            "order": null,
            "overflow": null,
            "padding": null,
            "right": null,
            "top": null,
            "visibility": null,
            "width": null
          }
        },
        "5133ad62c7284551ac6d8bb7d6a8e97d": {
          "model_module": "ipyvolume",
          "model_name": "ScatterModel",
          "model_module_version": "~0.5.2",
          "state": {
            "_model_module": "ipyvolume",
            "_model_module_version": "~0.5.2",
            "_model_name": "ScatterModel",
            "_view_count": null,
            "_view_module": "ipyvolume",
            "_view_module_version": "~0.5.2",
            "_view_name": "ScatterView",
            "color": [
              {
                "dtype": "float32",
                "shape": [
                  73394,
                  4
                ]
              }
            ],
            "color_selected": "white",
            "connected": false,
            "geo": "diamond",
            "line_material": "IPY_MODEL_5f69460da54048a1ac481cb9a24bc41f",
            "material": "IPY_MODEL_0dc0fe4267644b75ad95d7dc09103be5",
            "selected": null,
            "sequence_index": 0,
            "size": 0.2,
            "size_selected": 2.6,
            "texture": null,
            "visible": true,
            "vx": null,
            "vy": null,
            "vz": null,
            "x": [
              {
                "dtype": "float32",
                "shape": [
                  73394
                ]
              }
            ],
            "y": [
              {
                "dtype": "float32",
                "shape": [
                  73394
                ]
              }
            ],
            "z": [
              {
                "dtype": "float32",
                "shape": [
                  73394
                ]
              }
            ]
          }
        },
        "01b7c6ab160a4b5a9392e320fe450c7d": {
          "model_module": "jupyter-threejs",
          "model_name": "SceneModel",
          "model_module_version": "^2.1.0",
          "state": {
            "_model_module": "jupyter-threejs",
            "_model_module_version": "^2.1.0",
            "_model_name": "SceneModel",
            "_view_count": null,
            "_view_module": null,
            "_view_module_version": "",
            "_view_name": null,
            "autoUpdate": true,
            "background": null,
            "castShadow": false,
            "children": [],
            "fog": null,
            "frustumCulled": true,
            "matrix": [
              1,
              0,
              0,
              0,
              0,
              1,
              0,
              0,
              0,
              0,
              1,
              0,
              0,
              0,
              0,
              1
            ],
            "matrixAutoUpdate": true,
            "matrixWorld": [
              1,
              0,
              0,
              0,
              0,
              1,
              0,
              0,
              0,
              0,
              1,
              0,
              0,
              0,
              0,
              1
            ],
            "matrixWorldNeedsUpdate": false,
            "modelViewMatrix": [
              1,
              0,
              0,
              0,
              0,
              1,
              0,
              0,
              0,
              0,
              1,
              0,
              0,
              0,
              0,
              1
            ],
            "name": "",
            "normalMatrix": [
              1,
              0,
              0,
              0,
              1,
              0,
              0,
              0,
              1
            ],
            "overrideMaterial": null,
            "position": [
              0,
              0,
              0
            ],
            "quaternion": [
              0,
              0,
              0,
              1
            ],
            "receiveShadow": false,
            "renderOrder": 0,
            "rotation": [
              0,
              0,
              0,
              "XYZ"
            ],
            "scale": [
              1,
              1,
              1
            ],
            "type": "Scene",
            "up": [
              0,
              1,
              0
            ],
            "visible": true
          }
        },
        "5f69460da54048a1ac481cb9a24bc41f": {
          "model_module": "jupyter-threejs",
          "model_name": "ShaderMaterialModel",
          "model_module_version": "^2.1.0",
          "state": {
            "_model_module": "jupyter-threejs",
            "_model_module_version": "^2.1.0",
            "_model_name": "ShaderMaterialModel",
            "_view_count": null,
            "_view_module": null,
            "_view_module_version": "",
            "_view_name": null,
            "alphaTest": 0,
            "blendDst": "OneMinusSrcAlphaFactor",
            "blendDstAlpha": 0,
            "blendEquation": "AddEquation",
            "blendEquationAlpha": 0,
            "blendSrc": "SrcAlphaFactor",
            "blendSrcAlpha": 0,
            "blending": "NormalBlending",
            "clipIntersection": false,
            "clipShadows": false,
            "clipping": false,
            "clippingPlanes": [],
            "colorWrite": true,
            "defines": null,
            "depthFunc": "LessEqualDepth",
            "depthTest": true,
            "depthWrite": true,
            "dithering": false,
            "extensions": {},
            "flatShading": false,
            "fog": false,
            "fragmentShader": "",
            "lights": false,
            "linewidth": 1,
            "morphNormals": false,
            "morphTargets": false,
            "name": "",
            "opacity": 1,
            "overdraw": 0,
            "polygonOffset": false,
            "polygonOffsetFactor": 0,
            "polygonOffsetUnits": 0,
            "precision": null,
            "premultipliedAlpha": false,
            "shadowSide": null,
            "side": "FrontSide",
            "skinning": false,
            "transparent": false,
            "type": "ShaderMaterial",
            "uniforms": {},
            "uniformsNeedUpdate": false,
            "vertexColors": "NoColors",
            "vertexShader": "",
            "visible": true,
            "wireframe": false,
            "wireframeLinewidth": 1
          }
        },
        "0dc0fe4267644b75ad95d7dc09103be5": {
          "model_module": "jupyter-threejs",
          "model_name": "ShaderMaterialModel",
          "model_module_version": "^2.1.0",
          "state": {
            "_model_module": "jupyter-threejs",
            "_model_module_version": "^2.1.0",
            "_model_name": "ShaderMaterialModel",
            "_view_count": null,
            "_view_module": null,
            "_view_module_version": "",
            "_view_name": null,
            "alphaTest": 0,
            "blendDst": "OneMinusSrcAlphaFactor",
            "blendDstAlpha": 0,
            "blendEquation": "AddEquation",
            "blendEquationAlpha": 0,
            "blendSrc": "SrcAlphaFactor",
            "blendSrcAlpha": 0,
            "blending": "NormalBlending",
            "clipIntersection": false,
            "clipShadows": false,
            "clipping": false,
            "clippingPlanes": [],
            "colorWrite": true,
            "defines": null,
            "depthFunc": "LessEqualDepth",
            "depthTest": true,
            "depthWrite": true,
            "dithering": false,
            "extensions": {},
            "flatShading": false,
            "fog": false,
            "fragmentShader": "",
            "lights": false,
            "linewidth": 1,
            "morphNormals": false,
            "morphTargets": false,
            "name": "",
            "opacity": 1,
            "overdraw": 0,
            "polygonOffset": false,
            "polygonOffsetFactor": 0,
            "polygonOffsetUnits": 0,
            "precision": null,
            "premultipliedAlpha": false,
            "shadowSide": null,
            "side": "FrontSide",
            "skinning": false,
            "transparent": false,
            "type": "ShaderMaterial",
            "uniforms": {},
            "uniformsNeedUpdate": false,
            "vertexColors": "NoColors",
            "vertexShader": "",
            "visible": true,
            "wireframe": false,
            "wireframeLinewidth": 1
          }
        }
      }
    }
  },
  "cells": [
    {
      "cell_type": "markdown",
      "metadata": {
        "id": "view-in-github",
        "colab_type": "text"
      },
      "source": [
        "<a href=\"https://colab.research.google.com/github/yohanesnuwara/LiDAR/blob/main/1_read_and_visualize_point_cloud.ipynb\" target=\"_parent\"><img src=\"https://colab.research.google.com/assets/colab-badge.svg\" alt=\"Open In Colab\"/></a>"
      ]
    },
    {
      "cell_type": "markdown",
      "source": [
        "# Tutorial 01 Read point cloud data, clip with polygon, and visualize"
      ],
      "metadata": {
        "id": "Aobv-0rkK6jD"
      }
    },
    {
      "cell_type": "markdown",
      "source": [
        "This tutorial will discuss how to read point cloud data in LAZ format, clip the data by polygon, and visualize it using Python in Google Colab. Why Google Colab, is because it is a free notebook service that offers powerful computing resource. "
      ],
      "metadata": {
        "id": "m_jRcC4DWTZq"
      }
    },
    {
      "cell_type": "markdown",
      "source": [
        "To configure the environment, start by running the first cell. "
      ],
      "metadata": {
        "id": "yl-X8-5OgPlC"
      }
    },
    {
      "cell_type": "code",
      "execution_count": 2,
      "metadata": {
        "colab": {
          "base_uri": "https://localhost:8080/"
        },
        "id": "kHv-IyfMri4U",
        "outputId": "8587f315-0ad3-46f6-e93f-76ef94673a5a"
      },
      "outputs": [
        {
          "output_type": "stream",
          "name": "stdout",
          "text": [
            "⏬ Downloading https://github.com/jaimergp/miniforge/releases/latest/download/Mambaforge-colab-Linux-x86_64.sh...\n",
            "📦 Installing...\n",
            "📌 Adjusting configuration...\n",
            "🩹 Patching environment...\n",
            "⏲ Done in 0:00:17\n",
            "🔁 Restarting kernel...\n"
          ]
        }
      ],
      "source": [
        "!pip install -q condacolab\n",
        "import condacolab\n",
        "condacolab.install()"
      ]
    },
    {
      "cell_type": "markdown",
      "source": [
        "**Please wait few seconds** until the notebook restarts. Then, run the next cell. "
      ],
      "metadata": {
        "id": "vjQatiwSg20R"
      }
    },
    {
      "cell_type": "code",
      "source": [
        "import condacolab\n",
        "condacolab.check()\n",
        "\n",
        "!mamba install -q gdal-bin python-gdal python3-gdal\n",
        "!mamba install -q python-pdal Shapely Fiona\n",
        "!apt install python3-rtree\n",
        "!pip install git+git//github.com/geopandas/geopandas.git\n",
        "!pip install descartes\n",
        "!mamba install -q ipyleaflet\n",
        "!pip install -q ipyvolume\n",
        "!pip install -q shapely"
      ],
      "metadata": {
        "id": "cjQodsEDr-GR"
      },
      "execution_count": null,
      "outputs": []
    },
    {
      "cell_type": "markdown",
      "source": [
        "Import the libraries"
      ],
      "metadata": {
        "id": "VF7tEHiZhchw"
      }
    },
    {
      "cell_type": "code",
      "source": [
        "import numpy as np\n",
        "import pandas as pd\n",
        "import matplotlib\n",
        "import pdal\n",
        "import fiona\n",
        "from shapely.geometry import shape, LineString\n",
        "import ipyvolume.pylab as p3\n",
        "import json\n",
        "\n",
        "from google.colab import output\n",
        "output.enable_custom_widget_manager()"
      ],
      "metadata": {
        "id": "bxRjR5qhsuVW",
        "colab": {
          "base_uri": "https://localhost:8080/"
        },
        "outputId": "b0bcfb0a-18ae-4002-b48f-38ef118177b0"
      },
      "execution_count": 2,
      "outputs": [
        {
          "output_type": "stream",
          "name": "stderr",
          "text": [
            "PROJ: proj_create_from_database: Cannot find proj.db\n"
          ]
        }
      ]
    },
    {
      "cell_type": "markdown",
      "source": [
        "Clone the repository where the data and functions are stored"
      ],
      "metadata": {
        "id": "zwSnSYBcmNQd"
      }
    },
    {
      "cell_type": "code",
      "source": [
        "!git clone https://github.com/yohanesnuwara/LiDAR"
      ],
      "metadata": {
        "colab": {
          "base_uri": "https://localhost:8080/"
        },
        "id": "BfikKDmxtcCs",
        "outputId": "721a607a-d733-4847-ab4b-b26e69210146"
      },
      "execution_count": 3,
      "outputs": [
        {
          "output_type": "stream",
          "name": "stdout",
          "text": [
            "Cloning into 'LiDAR'...\n",
            "remote: Enumerating objects: 50, done.\u001b[K\n",
            "remote: Counting objects: 100% (50/50), done.\u001b[K\n",
            "remote: Compressing objects: 100% (48/48), done.\u001b[K\n",
            "remote: Total 50 (delta 17), reused 0 (delta 0), pack-reused 0\u001b[K\n",
            "Unpacking objects: 100% (50/50), done.\n"
          ]
        }
      ]
    },
    {
      "cell_type": "markdown",
      "source": [
        "## 1 - Sanity check\n",
        "\n",
        "LiDAR point cloud data often comes as a standard format such as LAS or LAZ (compressed). The data that we are going to use is Borneo forest data acquired by NASA Oak Ridge National Laboratory (ORNL) in 2014. You need to make account. Instead, I have prepared the \"subset\" of data in the repository. The data is: `Polygon_014_utm_50S_3.laz`"
      ],
      "metadata": {
        "id": "y46S_lCxsHeS"
      }
    },
    {
      "cell_type": "markdown",
      "source": [
        "Before we do anything, it's better to do quick sanity check e.g. to spot any possible outlier in the elevation. We will use PDAL for processing LiDAR data. The function to check the statistics of data is PDAL Info. Here we check X,Y,Z dimension. The Z dimension appears to have outlier. Check the JSON output, Z has maximum of 660 m. It is not true because the maximum height of forest can reach up to 40 or 50 m. Thus, later we will remove these outliers. "
      ],
      "metadata": {
        "id": "_bcZedZKsJ_2"
      }
    },
    {
      "cell_type": "code",
      "source": [
        "!pdal info /content/LiDAR/data/Polygon_014_utm_50S_3.laz --dimensions X,Y,Z"
      ],
      "metadata": {
        "colab": {
          "base_uri": "https://localhost:8080/"
        },
        "id": "r3aJiyIUsZLY",
        "outputId": "d5a555a3-1c6d-49eb-f9a5-309848f97ef5"
      },
      "execution_count": 5,
      "outputs": [
        {
          "output_type": "stream",
          "name": "stdout",
          "text": [
            "{\n",
            "  \"file_size\": 21039074,\n",
            "  \"filename\": \"/content/LiDAR/data/Polygon_014_utm_50S_3.laz\",\n",
            "  \"now\": \"2022-12-25T14:31:48+0000\",\n",
            "  \"pdal_version\": \"2.4.3 (git-version: dcef18)\",\n",
            "  \"reader\": \"readers.las\",\n",
            "  \"stats\":\n",
            "  {\n",
            "    \"bbox\":\n",
            "    {\n",
            "      \"native\":\n",
            "      {\n",
            "        \"bbox\":\n",
            "        {\n",
            "          \"maxx\": 219433.94,\n",
            "          \"maxy\": 9745664.9,\n",
            "          \"maxz\": 660.73,\n",
            "          \"minx\": 218620.96,\n",
            "          \"miny\": 9744713.06,\n",
            "          \"minz\": 4.66\n",
            "        },\n",
            "        \"boundary\": { \"type\": \"Polygon\", \"coordinates\": [ [ [ 218620.96, 9744713.060000000521541, 4.66 ], [ 218620.96, 9745664.900000000372529, 4.66 ], [ 219433.94, 9745664.900000000372529, 660.73 ], [ 219433.94, 9744713.060000000521541, 660.73 ], [ 218620.96, 9744713.060000000521541, 4.66 ] ] ] }\n",
            "      }\n",
            "    },\n",
            "    \"statistic\":\n",
            "    [\n",
            "      {\n",
            "        \"average\": 219071.1851,\n",
            "        \"count\": 5266966,\n",
            "        \"maximum\": 219433.94,\n",
            "        \"minimum\": 218620.96,\n",
            "        \"name\": \"X\",\n",
            "        \"position\": 0,\n",
            "        \"stddev\": 171.401639,\n",
            "        \"variance\": 29378.52186\n",
            "      },\n",
            "      {\n",
            "        \"average\": 9745280.093,\n",
            "        \"count\": 5266966,\n",
            "        \"maximum\": 9745664.9,\n",
            "        \"minimum\": 9744713.06,\n",
            "        \"name\": \"Y\",\n",
            "        \"position\": 1,\n",
            "        \"stddev\": 226.0049908,\n",
            "        \"variance\": 51078.25584\n",
            "      },\n",
            "      {\n",
            "        \"average\": 11.57742974,\n",
            "        \"count\": 5266966,\n",
            "        \"maximum\": 660.73,\n",
            "        \"minimum\": 4.66,\n",
            "        \"name\": \"Z\",\n",
            "        \"position\": 2,\n",
            "        \"stddev\": 8.650805406,\n",
            "        \"variance\": 74.83643418\n",
            "      }\n",
            "    ]\n",
            "  }\n",
            "}\n"
          ]
        }
      ]
    },
    {
      "cell_type": "markdown",
      "source": [
        "## 2 - Read LAZ data"
      ],
      "metadata": {
        "id": "wAdGYZcQmh3q"
      }
    },
    {
      "cell_type": "markdown",
      "source": [
        "In PDAL, we are making JSON pipeline to read and process LAS/LAZ data. Every time we add new process, we add new registers into the pipeline. For this part, we read LAZ data and output the array."
      ],
      "metadata": {
        "id": "1lO7wSIyn_Fi"
      }
    },
    {
      "cell_type": "code",
      "source": [
        "pipeline = {\n",
        "  \"pipeline\": [\n",
        "    {\n",
        "      \"type\": \"readers.las\",\n",
        "      \"filename\": \"/content/LiDAR/data/Polygon_014_utm_50S_3.laz\"\n",
        "    }\n",
        "  ]\n",
        "}\n",
        "\n",
        "r = pdal.Pipeline(json.dumps(pipeline))\n",
        "# pipeline.validate()\n",
        "r.execute()\n",
        "\n",
        "arrays = r.arrays\n",
        "print(arrays)"
      ],
      "metadata": {
        "colab": {
          "base_uri": "https://localhost:8080/"
        },
        "id": "5Jg2swNKqNAg",
        "outputId": "495de551-cfeb-469a-b1f1-c227de87d08f"
      },
      "execution_count": 4,
      "outputs": [
        {
          "output_type": "stream",
          "name": "stdout",
          "text": [
            "[array([(219000.  , 9744763.64,  6.85, 30, 2, 2, 0, 0, 0, -17., 0, 110, 98507277.51513389, 0, 0, 0),\n",
            "       (219000.46, 9744763.37,  6.46, 21, 2, 2, 0, 0, 2, -17., 0, 110, 98507277.51513988, 0, 0, 0),\n",
            "       (219000.37, 9744763.53,  6.56, 39, 2, 2, 1, 0, 2, -17., 0, 110, 98507277.51743788, 0, 0, 0),\n",
            "       ...,\n",
            "       (218999.17, 9745499.87, 15.79,  1, 1, 4, 0, 0, 0,  13., 0, 110, 98507292.96204288, 0, 0, 0),\n",
            "       (218999.38, 9745499.87, 14.75, 22, 1, 4, 0, 0, 0,  13., 0, 110, 98507292.96204989, 0, 0, 0),\n",
            "       (218999.96, 9745499.56, 15.68, 36, 1, 1, 0, 0, 0,  13., 0, 110, 98507292.96205688, 0, 0, 0)],\n",
            "      dtype=[('X', '<f8'), ('Y', '<f8'), ('Z', '<f8'), ('Intensity', '<u2'), ('ReturnNumber', 'u1'), ('NumberOfReturns', 'u1'), ('ScanDirectionFlag', 'u1'), ('EdgeOfFlightLine', 'u1'), ('Classification', 'u1'), ('ScanAngleRank', '<f4'), ('UserData', 'u1'), ('PointSourceId', '<u2'), ('GpsTime', '<f8'), ('Red', '<u2'), ('Green', '<u2'), ('Blue', '<u2')])]\n"
          ]
        }
      ]
    },
    {
      "cell_type": "markdown",
      "source": [
        "## 3 - Remove outlier "
      ],
      "metadata": {
        "id": "YGUFxNMfrYQL"
      }
    },
    {
      "cell_type": "markdown",
      "source": [
        "From the Pdal Info, we know there is outlier. Since we know tree can grow up to 50 m max, we filter the points only 50 m above the lowest point, using `filters.range` method with `Z[:50]`. Then write the output as LAZ file."
      ],
      "metadata": {
        "id": "CQyAgh2UUDto"
      }
    },
    {
      "cell_type": "code",
      "source": [
        "pipeline = {\n",
        "  \"pipeline\": [\n",
        "    {\n",
        "      \"type\": \"readers.las\",\n",
        "      \"filename\": \"/content/LiDAR/data/Polygon_014_utm_50S_3.laz\"\n",
        "    },\n",
        "    {\n",
        "      \"type\": \"filters.range\",\n",
        "      \"limits\": \"Z[:50]\"\n",
        "    },\n",
        "    {\n",
        "      \"type\": \"writers.las\",\n",
        "      \"filename\": \"/content/LiDAR/data/Polygon_014_utm_50S_3_OutlierRem.laz\"\n",
        "    }\n",
        "  ]\n",
        "}\n",
        "\n",
        "r = pdal.Pipeline(json.dumps(pipeline))\n",
        "# pipeline.validate()\n",
        "r.execute()\n",
        "\n",
        "arrays = r.arrays\n",
        "print(arrays)"
      ],
      "metadata": {
        "colab": {
          "base_uri": "https://localhost:8080/"
        },
        "id": "pYzjlUjK1sno",
        "outputId": "c34ffd7f-cb56-4947-c745-c28917304125"
      },
      "execution_count": 6,
      "outputs": [
        {
          "output_type": "stream",
          "name": "stdout",
          "text": [
            "[array([(219000.  , 9744763.64,  6.85, 30, 2, 2, 0, 0, 0, -17., 0, 110, 98507277.51513389, 0, 0, 0),\n",
            "       (219000.46, 9744763.37,  6.46, 21, 2, 2, 0, 0, 2, -17., 0, 110, 98507277.51513988, 0, 0, 0),\n",
            "       (219000.37, 9744763.53,  6.56, 39, 2, 2, 1, 0, 2, -17., 0, 110, 98507277.51743788, 0, 0, 0),\n",
            "       ...,\n",
            "       (218999.17, 9745499.87, 15.79,  1, 1, 4, 0, 0, 0,  13., 0, 110, 98507292.96204288, 0, 0, 0),\n",
            "       (218999.38, 9745499.87, 14.75, 22, 1, 4, 0, 0, 0,  13., 0, 110, 98507292.96204989, 0, 0, 0),\n",
            "       (218999.96, 9745499.56, 15.68, 36, 1, 1, 0, 0, 0,  13., 0, 110, 98507292.96205688, 0, 0, 0)],\n",
            "      dtype=[('X', '<f8'), ('Y', '<f8'), ('Z', '<f8'), ('Intensity', '<u2'), ('ReturnNumber', 'u1'), ('NumberOfReturns', 'u1'), ('ScanDirectionFlag', 'u1'), ('EdgeOfFlightLine', 'u1'), ('Classification', 'u1'), ('ScanAngleRank', '<f4'), ('UserData', 'u1'), ('PointSourceId', '<u2'), ('GpsTime', '<f8'), ('Red', '<u2'), ('Green', '<u2'), ('Blue', '<u2')])]\n"
          ]
        }
      ]
    },
    {
      "cell_type": "markdown",
      "source": [
        "## 4 - Clip with polygon"
      ],
      "metadata": {
        "id": "YQTDtLkwVCQz"
      }
    },
    {
      "cell_type": "markdown",
      "source": [
        "Sometimes we want to see the smaller part of the area."
      ],
      "metadata": {
        "id": "HB0mRPrJVZ_V"
      }
    },
    {
      "cell_type": "code",
      "source": [
        "crop = fiona.open(\"/content/LiDAR/data/Polygon_014_utm_50S_3.shp\")\n",
        "b = crop.bounds\n",
        "collection = [ shape(item['geometry']) for item in crop ][0]\n",
        "print(collection)"
      ],
      "metadata": {
        "colab": {
          "base_uri": "https://localhost:8080/"
        },
        "id": "SEHdW9_sucde",
        "outputId": "db97a36f-a2b1-4af7-d358-c120db5e2597"
      },
      "execution_count": 7,
      "outputs": [
        {
          "output_type": "stream",
          "name": "stdout",
          "text": [
            "POLYGON ((219045.75029658648 9745597.231219921, 219081.97088975937 9745585.70648573, 219098.98359261328 9745564.852204813, 219097.88599888078 9745541.253939563, 219084.1660772244 9745526.436424173, 219060.01901510914 9745525.887627307, 219037.51834359264 9745536.863564633, 219029.2863905988 9745556.620251818, 219026.54240626752 9745578.023329603, 219032.57917179633 9745591.743251259, 219045.75029658648 9745597.231219921))\n"
          ]
        }
      ]
    },
    {
      "cell_type": "code",
      "source": [
        "pipeline = {\n",
        "    'pipeline': [\n",
        "        {\n",
        "            \"type\": \"readers.las\",\n",
        "            \"filename\": \"/content/LiDAR/data/Polygon_014_utm_50S_3_OutlierRem.laz\"\n",
        "        },    \n",
        "        {   \n",
        "            \"type\":\"filters.crop\",\n",
        "            'polygon':collection.wkt\n",
        "        },       \n",
        "        {\n",
        "            \"type\": \"writers.las\",\n",
        "            \"filename\": \"/content/LiDAR/data/Clipped_Polygon_014_utm_50S_3.laz\"\n",
        "        }\n",
        "    ]\n",
        "}\n",
        "\n",
        "r = pdal.Pipeline(json.dumps(pipeline))\n",
        "# pipeline.validate()\n",
        "r.execute()\n",
        "\n",
        "arrays = r.arrays\n",
        "print(arrays)"
      ],
      "metadata": {
        "colab": {
          "base_uri": "https://localhost:8080/"
        },
        "id": "WlQiFKdBuVmJ",
        "outputId": "9f302fc9-f512-43bf-8460-e49616967361"
      },
      "execution_count": 8,
      "outputs": [
        {
          "output_type": "stream",
          "name": "stdout",
          "text": [
            "[array([(219060.  , 9745526.17,  9.82,  1, 4, 4, 1, 0, 0,  9., 0, 110, 98507294.02690887, 0, 0, 0),\n",
            "       (219058.9 , 9745526.79,  7.55,  1, 2, 2, 1, 0, 0,  9., 0, 110, 98507294.02692288, 0, 0, 0),\n",
            "       (219052.09, 9745529.85,  7.32,  9, 4, 4, 0, 0, 2, 10., 0, 110, 98507294.03189088, 0, 0, 0),\n",
            "       ...,\n",
            "       (219081.15, 9745585.72, 21.19, 12, 1, 3, 0, 0, 0, 10., 0, 110, 98507295.70475888, 0, 0, 0),\n",
            "       (219081.61, 9745585.5 , 21.6 , 17, 1, 3, 0, 0, 0, 10., 0, 110, 98507295.70476489, 0, 0, 0),\n",
            "       (219082.04, 9745585.32, 21.83, 37, 1, 2, 0, 0, 0, 10., 0, 110, 98507295.70477188, 0, 0, 0)],\n",
            "      dtype=[('X', '<f8'), ('Y', '<f8'), ('Z', '<f8'), ('Intensity', '<u2'), ('ReturnNumber', 'u1'), ('NumberOfReturns', 'u1'), ('ScanDirectionFlag', 'u1'), ('EdgeOfFlightLine', 'u1'), ('Classification', 'u1'), ('ScanAngleRank', '<f4'), ('UserData', 'u1'), ('PointSourceId', '<u2'), ('GpsTime', '<f8'), ('Red', '<u2'), ('Green', '<u2'), ('Blue', '<u2')])]\n"
          ]
        }
      ]
    },
    {
      "cell_type": "code",
      "source": [
        "# Load Pipeline output in python objects\n",
        "arr = r.arrays[0]\n",
        "description = arr.dtype.descr\n",
        "cols = [col for col, __ in description]\n",
        "df = pd.DataFrame({col: arr[col] for col in cols})\n",
        "df['X_0'] = df['X']\n",
        "df['Y_0'] = df['Y']\n",
        "df['Z_0'] = df['Z']\n",
        "df['X'] = df['X'] - df['X_0'].min()\n",
        "df['Y'] = df['Y'] - df['Y_0'].min()\n",
        "df['Z'] = df['Z'] - df['Z_0'].min()\n",
        "\n",
        "df"
      ],
      "metadata": {
        "id": "JFu81VGZu3iu",
        "colab": {
          "base_uri": "https://localhost:8080/",
          "height": 487
        },
        "outputId": "c72baba1-91a7-400e-9aff-edd45b8e083d"
      },
      "execution_count": 9,
      "outputs": [
        {
          "output_type": "execute_result",
          "data": {
            "text/plain": [
              "           X      Y      Z  Intensity  ReturnNumber  NumberOfReturns  \\\n",
              "0      33.40   0.23   2.84          1             4                4   \n",
              "1      32.30   0.85   0.57          1             2                2   \n",
              "2      25.49   3.91   0.34          9             4                4   \n",
              "3      25.91   3.73   0.41          6             4                4   \n",
              "4      32.43   1.06   0.56          2             4                4   \n",
              "...      ...    ...    ...        ...           ...              ...   \n",
              "73389  53.46  60.15  15.08         35             1                3   \n",
              "73390  53.83  60.02  14.83         31             1                2   \n",
              "73391  54.55  59.78  14.21         12             1                3   \n",
              "73392  55.01  59.56  14.62         17             1                3   \n",
              "73393  55.44  59.38  14.85         37             1                2   \n",
              "\n",
              "       ScanDirectionFlag  EdgeOfFlightLine  Classification  ScanAngleRank  \\\n",
              "0                      1                 0               0            9.0   \n",
              "1                      1                 0               0            9.0   \n",
              "2                      0                 0               2           10.0   \n",
              "3                      0                 0               2           10.0   \n",
              "4                      0                 0               0            9.0   \n",
              "...                  ...               ...             ...            ...   \n",
              "73389                  0                 0               0           10.0   \n",
              "73390                  0                 0               0           10.0   \n",
              "73391                  0                 0               0           10.0   \n",
              "73392                  0                 0               0           10.0   \n",
              "73393                  0                 0               0           10.0   \n",
              "\n",
              "       UserData  PointSourceId       GpsTime  Red  Green  Blue        X_0  \\\n",
              "0             0            110  9.850729e+07    0      0     0  219060.00   \n",
              "1             0            110  9.850729e+07    0      0     0  219058.90   \n",
              "2             0            110  9.850729e+07    0      0     0  219052.09   \n",
              "3             0            110  9.850729e+07    0      0     0  219052.51   \n",
              "4             0            110  9.850729e+07    0      0     0  219059.03   \n",
              "...         ...            ...           ...  ...    ...   ...        ...   \n",
              "73389         0            110  9.850730e+07    0      0     0  219080.06   \n",
              "73390         0            110  9.850730e+07    0      0     0  219080.43   \n",
              "73391         0            110  9.850730e+07    0      0     0  219081.15   \n",
              "73392         0            110  9.850730e+07    0      0     0  219081.61   \n",
              "73393         0            110  9.850730e+07    0      0     0  219082.04   \n",
              "\n",
              "              Y_0    Z_0  \n",
              "0      9745526.17   9.82  \n",
              "1      9745526.79   7.55  \n",
              "2      9745529.85   7.32  \n",
              "3      9745529.67   7.39  \n",
              "4      9745527.00   7.54  \n",
              "...           ...    ...  \n",
              "73389  9745586.09  22.06  \n",
              "73390  9745585.96  21.81  \n",
              "73391  9745585.72  21.19  \n",
              "73392  9745585.50  21.60  \n",
              "73393  9745585.32  21.83  \n",
              "\n",
              "[73394 rows x 19 columns]"
            ],
            "text/html": [
              "\n",
              "  <div id=\"df-40f4c524-8e8b-4f9c-8035-21f6684718eb\">\n",
              "    <div class=\"colab-df-container\">\n",
              "      <div>\n",
              "<style scoped>\n",
              "    .dataframe tbody tr th:only-of-type {\n",
              "        vertical-align: middle;\n",
              "    }\n",
              "\n",
              "    .dataframe tbody tr th {\n",
              "        vertical-align: top;\n",
              "    }\n",
              "\n",
              "    .dataframe thead th {\n",
              "        text-align: right;\n",
              "    }\n",
              "</style>\n",
              "<table border=\"1\" class=\"dataframe\">\n",
              "  <thead>\n",
              "    <tr style=\"text-align: right;\">\n",
              "      <th></th>\n",
              "      <th>X</th>\n",
              "      <th>Y</th>\n",
              "      <th>Z</th>\n",
              "      <th>Intensity</th>\n",
              "      <th>ReturnNumber</th>\n",
              "      <th>NumberOfReturns</th>\n",
              "      <th>ScanDirectionFlag</th>\n",
              "      <th>EdgeOfFlightLine</th>\n",
              "      <th>Classification</th>\n",
              "      <th>ScanAngleRank</th>\n",
              "      <th>UserData</th>\n",
              "      <th>PointSourceId</th>\n",
              "      <th>GpsTime</th>\n",
              "      <th>Red</th>\n",
              "      <th>Green</th>\n",
              "      <th>Blue</th>\n",
              "      <th>X_0</th>\n",
              "      <th>Y_0</th>\n",
              "      <th>Z_0</th>\n",
              "    </tr>\n",
              "  </thead>\n",
              "  <tbody>\n",
              "    <tr>\n",
              "      <th>0</th>\n",
              "      <td>33.40</td>\n",
              "      <td>0.23</td>\n",
              "      <td>2.84</td>\n",
              "      <td>1</td>\n",
              "      <td>4</td>\n",
              "      <td>4</td>\n",
              "      <td>1</td>\n",
              "      <td>0</td>\n",
              "      <td>0</td>\n",
              "      <td>9.0</td>\n",
              "      <td>0</td>\n",
              "      <td>110</td>\n",
              "      <td>9.850729e+07</td>\n",
              "      <td>0</td>\n",
              "      <td>0</td>\n",
              "      <td>0</td>\n",
              "      <td>219060.00</td>\n",
              "      <td>9745526.17</td>\n",
              "      <td>9.82</td>\n",
              "    </tr>\n",
              "    <tr>\n",
              "      <th>1</th>\n",
              "      <td>32.30</td>\n",
              "      <td>0.85</td>\n",
              "      <td>0.57</td>\n",
              "      <td>1</td>\n",
              "      <td>2</td>\n",
              "      <td>2</td>\n",
              "      <td>1</td>\n",
              "      <td>0</td>\n",
              "      <td>0</td>\n",
              "      <td>9.0</td>\n",
              "      <td>0</td>\n",
              "      <td>110</td>\n",
              "      <td>9.850729e+07</td>\n",
              "      <td>0</td>\n",
              "      <td>0</td>\n",
              "      <td>0</td>\n",
              "      <td>219058.90</td>\n",
              "      <td>9745526.79</td>\n",
              "      <td>7.55</td>\n",
              "    </tr>\n",
              "    <tr>\n",
              "      <th>2</th>\n",
              "      <td>25.49</td>\n",
              "      <td>3.91</td>\n",
              "      <td>0.34</td>\n",
              "      <td>9</td>\n",
              "      <td>4</td>\n",
              "      <td>4</td>\n",
              "      <td>0</td>\n",
              "      <td>0</td>\n",
              "      <td>2</td>\n",
              "      <td>10.0</td>\n",
              "      <td>0</td>\n",
              "      <td>110</td>\n",
              "      <td>9.850729e+07</td>\n",
              "      <td>0</td>\n",
              "      <td>0</td>\n",
              "      <td>0</td>\n",
              "      <td>219052.09</td>\n",
              "      <td>9745529.85</td>\n",
              "      <td>7.32</td>\n",
              "    </tr>\n",
              "    <tr>\n",
              "      <th>3</th>\n",
              "      <td>25.91</td>\n",
              "      <td>3.73</td>\n",
              "      <td>0.41</td>\n",
              "      <td>6</td>\n",
              "      <td>4</td>\n",
              "      <td>4</td>\n",
              "      <td>0</td>\n",
              "      <td>0</td>\n",
              "      <td>2</td>\n",
              "      <td>10.0</td>\n",
              "      <td>0</td>\n",
              "      <td>110</td>\n",
              "      <td>9.850729e+07</td>\n",
              "      <td>0</td>\n",
              "      <td>0</td>\n",
              "      <td>0</td>\n",
              "      <td>219052.51</td>\n",
              "      <td>9745529.67</td>\n",
              "      <td>7.39</td>\n",
              "    </tr>\n",
              "    <tr>\n",
              "      <th>4</th>\n",
              "      <td>32.43</td>\n",
              "      <td>1.06</td>\n",
              "      <td>0.56</td>\n",
              "      <td>2</td>\n",
              "      <td>4</td>\n",
              "      <td>4</td>\n",
              "      <td>0</td>\n",
              "      <td>0</td>\n",
              "      <td>0</td>\n",
              "      <td>9.0</td>\n",
              "      <td>0</td>\n",
              "      <td>110</td>\n",
              "      <td>9.850729e+07</td>\n",
              "      <td>0</td>\n",
              "      <td>0</td>\n",
              "      <td>0</td>\n",
              "      <td>219059.03</td>\n",
              "      <td>9745527.00</td>\n",
              "      <td>7.54</td>\n",
              "    </tr>\n",
              "    <tr>\n",
              "      <th>...</th>\n",
              "      <td>...</td>\n",
              "      <td>...</td>\n",
              "      <td>...</td>\n",
              "      <td>...</td>\n",
              "      <td>...</td>\n",
              "      <td>...</td>\n",
              "      <td>...</td>\n",
              "      <td>...</td>\n",
              "      <td>...</td>\n",
              "      <td>...</td>\n",
              "      <td>...</td>\n",
              "      <td>...</td>\n",
              "      <td>...</td>\n",
              "      <td>...</td>\n",
              "      <td>...</td>\n",
              "      <td>...</td>\n",
              "      <td>...</td>\n",
              "      <td>...</td>\n",
              "      <td>...</td>\n",
              "    </tr>\n",
              "    <tr>\n",
              "      <th>73389</th>\n",
              "      <td>53.46</td>\n",
              "      <td>60.15</td>\n",
              "      <td>15.08</td>\n",
              "      <td>35</td>\n",
              "      <td>1</td>\n",
              "      <td>3</td>\n",
              "      <td>0</td>\n",
              "      <td>0</td>\n",
              "      <td>0</td>\n",
              "      <td>10.0</td>\n",
              "      <td>0</td>\n",
              "      <td>110</td>\n",
              "      <td>9.850730e+07</td>\n",
              "      <td>0</td>\n",
              "      <td>0</td>\n",
              "      <td>0</td>\n",
              "      <td>219080.06</td>\n",
              "      <td>9745586.09</td>\n",
              "      <td>22.06</td>\n",
              "    </tr>\n",
              "    <tr>\n",
              "      <th>73390</th>\n",
              "      <td>53.83</td>\n",
              "      <td>60.02</td>\n",
              "      <td>14.83</td>\n",
              "      <td>31</td>\n",
              "      <td>1</td>\n",
              "      <td>2</td>\n",
              "      <td>0</td>\n",
              "      <td>0</td>\n",
              "      <td>0</td>\n",
              "      <td>10.0</td>\n",
              "      <td>0</td>\n",
              "      <td>110</td>\n",
              "      <td>9.850730e+07</td>\n",
              "      <td>0</td>\n",
              "      <td>0</td>\n",
              "      <td>0</td>\n",
              "      <td>219080.43</td>\n",
              "      <td>9745585.96</td>\n",
              "      <td>21.81</td>\n",
              "    </tr>\n",
              "    <tr>\n",
              "      <th>73391</th>\n",
              "      <td>54.55</td>\n",
              "      <td>59.78</td>\n",
              "      <td>14.21</td>\n",
              "      <td>12</td>\n",
              "      <td>1</td>\n",
              "      <td>3</td>\n",
              "      <td>0</td>\n",
              "      <td>0</td>\n",
              "      <td>0</td>\n",
              "      <td>10.0</td>\n",
              "      <td>0</td>\n",
              "      <td>110</td>\n",
              "      <td>9.850730e+07</td>\n",
              "      <td>0</td>\n",
              "      <td>0</td>\n",
              "      <td>0</td>\n",
              "      <td>219081.15</td>\n",
              "      <td>9745585.72</td>\n",
              "      <td>21.19</td>\n",
              "    </tr>\n",
              "    <tr>\n",
              "      <th>73392</th>\n",
              "      <td>55.01</td>\n",
              "      <td>59.56</td>\n",
              "      <td>14.62</td>\n",
              "      <td>17</td>\n",
              "      <td>1</td>\n",
              "      <td>3</td>\n",
              "      <td>0</td>\n",
              "      <td>0</td>\n",
              "      <td>0</td>\n",
              "      <td>10.0</td>\n",
              "      <td>0</td>\n",
              "      <td>110</td>\n",
              "      <td>9.850730e+07</td>\n",
              "      <td>0</td>\n",
              "      <td>0</td>\n",
              "      <td>0</td>\n",
              "      <td>219081.61</td>\n",
              "      <td>9745585.50</td>\n",
              "      <td>21.60</td>\n",
              "    </tr>\n",
              "    <tr>\n",
              "      <th>73393</th>\n",
              "      <td>55.44</td>\n",
              "      <td>59.38</td>\n",
              "      <td>14.85</td>\n",
              "      <td>37</td>\n",
              "      <td>1</td>\n",
              "      <td>2</td>\n",
              "      <td>0</td>\n",
              "      <td>0</td>\n",
              "      <td>0</td>\n",
              "      <td>10.0</td>\n",
              "      <td>0</td>\n",
              "      <td>110</td>\n",
              "      <td>9.850730e+07</td>\n",
              "      <td>0</td>\n",
              "      <td>0</td>\n",
              "      <td>0</td>\n",
              "      <td>219082.04</td>\n",
              "      <td>9745585.32</td>\n",
              "      <td>21.83</td>\n",
              "    </tr>\n",
              "  </tbody>\n",
              "</table>\n",
              "<p>73394 rows × 19 columns</p>\n",
              "</div>\n",
              "      <button class=\"colab-df-convert\" onclick=\"convertToInteractive('df-40f4c524-8e8b-4f9c-8035-21f6684718eb')\"\n",
              "              title=\"Convert this dataframe to an interactive table.\"\n",
              "              style=\"display:none;\">\n",
              "        \n",
              "  <svg xmlns=\"http://www.w3.org/2000/svg\" height=\"24px\"viewBox=\"0 0 24 24\"\n",
              "       width=\"24px\">\n",
              "    <path d=\"M0 0h24v24H0V0z\" fill=\"none\"/>\n",
              "    <path d=\"M18.56 5.44l.94 2.06.94-2.06 2.06-.94-2.06-.94-.94-2.06-.94 2.06-2.06.94zm-11 1L8.5 8.5l.94-2.06 2.06-.94-2.06-.94L8.5 2.5l-.94 2.06-2.06.94zm10 10l.94 2.06.94-2.06 2.06-.94-2.06-.94-.94-2.06-.94 2.06-2.06.94z\"/><path d=\"M17.41 7.96l-1.37-1.37c-.4-.4-.92-.59-1.43-.59-.52 0-1.04.2-1.43.59L10.3 9.45l-7.72 7.72c-.78.78-.78 2.05 0 2.83L4 21.41c.39.39.9.59 1.41.59.51 0 1.02-.2 1.41-.59l7.78-7.78 2.81-2.81c.8-.78.8-2.07 0-2.86zM5.41 20L4 18.59l7.72-7.72 1.47 1.35L5.41 20z\"/>\n",
              "  </svg>\n",
              "      </button>\n",
              "      \n",
              "  <style>\n",
              "    .colab-df-container {\n",
              "      display:flex;\n",
              "      flex-wrap:wrap;\n",
              "      gap: 12px;\n",
              "    }\n",
              "\n",
              "    .colab-df-convert {\n",
              "      background-color: #E8F0FE;\n",
              "      border: none;\n",
              "      border-radius: 50%;\n",
              "      cursor: pointer;\n",
              "      display: none;\n",
              "      fill: #1967D2;\n",
              "      height: 32px;\n",
              "      padding: 0 0 0 0;\n",
              "      width: 32px;\n",
              "    }\n",
              "\n",
              "    .colab-df-convert:hover {\n",
              "      background-color: #E2EBFA;\n",
              "      box-shadow: 0px 1px 2px rgba(60, 64, 67, 0.3), 0px 1px 3px 1px rgba(60, 64, 67, 0.15);\n",
              "      fill: #174EA6;\n",
              "    }\n",
              "\n",
              "    [theme=dark] .colab-df-convert {\n",
              "      background-color: #3B4455;\n",
              "      fill: #D2E3FC;\n",
              "    }\n",
              "\n",
              "    [theme=dark] .colab-df-convert:hover {\n",
              "      background-color: #434B5C;\n",
              "      box-shadow: 0px 1px 3px 1px rgba(0, 0, 0, 0.15);\n",
              "      filter: drop-shadow(0px 1px 2px rgba(0, 0, 0, 0.3));\n",
              "      fill: #FFFFFF;\n",
              "    }\n",
              "  </style>\n",
              "\n",
              "      <script>\n",
              "        const buttonEl =\n",
              "          document.querySelector('#df-40f4c524-8e8b-4f9c-8035-21f6684718eb button.colab-df-convert');\n",
              "        buttonEl.style.display =\n",
              "          google.colab.kernel.accessAllowed ? 'block' : 'none';\n",
              "\n",
              "        async function convertToInteractive(key) {\n",
              "          const element = document.querySelector('#df-40f4c524-8e8b-4f9c-8035-21f6684718eb');\n",
              "          const dataTable =\n",
              "            await google.colab.kernel.invokeFunction('convertToInteractive',\n",
              "                                                     [key], {});\n",
              "          if (!dataTable) return;\n",
              "\n",
              "          const docLinkHtml = 'Like what you see? Visit the ' +\n",
              "            '<a target=\"_blank\" href=https://colab.research.google.com/notebooks/data_table.ipynb>data table notebook</a>'\n",
              "            + ' to learn more about interactive tables.';\n",
              "          element.innerHTML = '';\n",
              "          dataTable['output_type'] = 'display_data';\n",
              "          await google.colab.output.renderOutput(dataTable, element);\n",
              "          const docLink = document.createElement('div');\n",
              "          docLink.innerHTML = docLinkHtml;\n",
              "          element.appendChild(docLink);\n",
              "        }\n",
              "      </script>\n",
              "    </div>\n",
              "  </div>\n",
              "  "
            ]
          },
          "metadata": {},
          "execution_count": 9
        }
      ]
    },
    {
      "cell_type": "code",
      "source": [
        "x, y, z = np.random.random((3, 100))\n",
        "\n",
        "df['Z'].values\n",
        "z = df['Z'].values.reshape(-1, 1)"
      ],
      "metadata": {
        "id": "vT3l057etUTJ"
      },
      "execution_count": 10,
      "outputs": []
    },
    {
      "cell_type": "code",
      "source": [
        "import matplotlib.cm as cm\n",
        "\n",
        "sm = cm.ScalarMappable(cmap='summer')\n",
        "\n",
        "col = sm.to_rgba(df['Intensity'].values)\n",
        "\n",
        "col.shape"
      ],
      "metadata": {
        "colab": {
          "base_uri": "https://localhost:8080/"
        },
        "id": "AmG0xNm7v38C",
        "outputId": "082c0cf0-b1ab-49fc-efba-03753cb6d592"
      },
      "execution_count": 11,
      "outputs": [
        {
          "output_type": "execute_result",
          "data": {
            "text/plain": [
              "(73394, 4)"
            ]
          },
          "metadata": {},
          "execution_count": 11
        }
      ]
    },
    {
      "cell_type": "code",
      "source": [
        "fig = p3.figure(width=1000)\n",
        "fig.xlabel='Y'\n",
        "fig.ylabel='Z'\n",
        "fig.zlabel='X'\n",
        "all_points = p3.scatter(df['Y'], df['Z'], df['X'], color=col, size=.2)\n",
        "p3.squarelim()\n",
        "\n",
        "p3.show()"
      ],
      "metadata": {
        "colab": {
          "base_uri": "https://localhost:8080/",
          "height": 556,
          "referenced_widgets": [
            "e4579edaf2e949b09a1e63ab72931e8a",
            "22130cbb07674a9dbf2e055c7a12b07f",
            "ed84d72530c54181bd43b1bd78b3d2c0",
            "5a8b5f3cc9fc406eb993fea5ce9842e8",
            "3abcbe14f4e74205b5863d741232bad2",
            "5133ad62c7284551ac6d8bb7d6a8e97d",
            "01b7c6ab160a4b5a9392e320fe450c7d",
            "5f69460da54048a1ac481cb9a24bc41f",
            "0dc0fe4267644b75ad95d7dc09103be5"
          ]
        },
        "id": "6foi2WybvFm7",
        "outputId": "fea9889d-b7de-4388-e7b3-f00edd65b5f6"
      },
      "execution_count": 12,
      "outputs": [
        {
          "output_type": "display_data",
          "data": {
            "text/plain": [
              "VBox(children=(Figure(camera=PerspectiveCamera(fov=46.0, position=(0.0, 0.0, 2.0), projectionMatrix=(1.0, 0.0,…"
            ],
            "application/vnd.jupyter.widget-view+json": {
              "version_major": 2,
              "version_minor": 0,
              "model_id": "e4579edaf2e949b09a1e63ab72931e8a"
            }
          },
          "metadata": {
            "application/vnd.jupyter.widget-view+json": {
              "colab": {
                "custom_widget_manager": {
                  "url": "https://ssl.gstatic.com/colaboratory-static/widgets/colab-cdn-widget-manager/b3e629b1971e1542/manager.min.js"
                }
              }
            }
          }
        }
      ]
    }
  ]
}